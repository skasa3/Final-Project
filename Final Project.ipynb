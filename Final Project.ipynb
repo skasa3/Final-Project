{
 "cells": [
  {
   "cell_type": "code",
   "execution_count": 1,
   "metadata": {
    "collapsed": true
   },
   "outputs": [],
   "source": [
    "import pandas as pd\n",
    "import numpy as np"
   ]
  },
  {
   "cell_type": "code",
   "execution_count": 3,
   "metadata": {
    "collapsed": false
   },
   "outputs": [],
   "source": [
    "M = pd.read_csv('Restaurant.csv', index_col='Name')"
   ]
  },
  {
   "cell_type": "code",
   "execution_count": 4,
   "metadata": {
    "collapsed": false
   },
   "outputs": [
    {
     "data": {
      "text/html": [
       "<div>\n",
       "<table border=\"1\" class=\"dataframe\">\n",
       "  <thead>\n",
       "    <tr style=\"text-align: right;\">\n",
       "      <th></th>\n",
       "      <th>Puran Indian Restaurant</th>\n",
       "      <th>Signature India - Bloomington</th>\n",
       "      <th>Happy Hour bloomington</th>\n",
       "      <th>India Palace Restaurant</th>\n",
       "      <th>Anand India Restaurant</th>\n",
       "      <th>Tamarind - Indian Cuisine</th>\n",
       "      <th>Masala</th>\n",
       "      <th>Haldi Indian Restaurant</th>\n",
       "      <th>Himalayan Restaurant</th>\n",
       "      <th>Rivaj Of India</th>\n",
       "      <th>Ruchi</th>\n",
       "      <th>New Delhi Restaurant of India</th>\n",
       "      <th>Bombay Chopsticks</th>\n",
       "      <th>Mantra by Indian Garden</th>\n",
       "      <th>Taj Indian Cuisine</th>\n",
       "      <th>Khana Khazanah</th>\n",
       "    </tr>\n",
       "    <tr>\n",
       "      <th>Name</th>\n",
       "      <th></th>\n",
       "      <th></th>\n",
       "      <th></th>\n",
       "      <th></th>\n",
       "      <th></th>\n",
       "      <th></th>\n",
       "      <th></th>\n",
       "      <th></th>\n",
       "      <th></th>\n",
       "      <th></th>\n",
       "      <th></th>\n",
       "      <th></th>\n",
       "      <th></th>\n",
       "      <th></th>\n",
       "      <th></th>\n",
       "      <th></th>\n",
       "    </tr>\n",
       "  </thead>\n",
       "  <tbody>\n",
       "    <tr>\n",
       "      <th>Veera</th>\n",
       "      <td>3</td>\n",
       "      <td>NaN</td>\n",
       "      <td>5</td>\n",
       "      <td>NaN</td>\n",
       "      <td>3</td>\n",
       "      <td>4</td>\n",
       "      <td>NaN</td>\n",
       "      <td>5</td>\n",
       "      <td>NaN</td>\n",
       "      <td>NaN</td>\n",
       "      <td>3</td>\n",
       "      <td>4</td>\n",
       "      <td>3</td>\n",
       "      <td>4</td>\n",
       "      <td>NaN</td>\n",
       "      <td>4</td>\n",
       "    </tr>\n",
       "    <tr>\n",
       "      <th>Shekar</th>\n",
       "      <td>4</td>\n",
       "      <td>NaN</td>\n",
       "      <td>NaN</td>\n",
       "      <td>4</td>\n",
       "      <td>4</td>\n",
       "      <td>5</td>\n",
       "      <td>5</td>\n",
       "      <td>NaN</td>\n",
       "      <td>3</td>\n",
       "      <td>4</td>\n",
       "      <td>4</td>\n",
       "      <td>5</td>\n",
       "      <td>4</td>\n",
       "      <td>4</td>\n",
       "      <td>NaN</td>\n",
       "      <td>5</td>\n",
       "    </tr>\n",
       "    <tr>\n",
       "      <th>Ramesh</th>\n",
       "      <td>NaN</td>\n",
       "      <td>4</td>\n",
       "      <td>5</td>\n",
       "      <td>NaN</td>\n",
       "      <td>4</td>\n",
       "      <td>2</td>\n",
       "      <td>NaN</td>\n",
       "      <td>NaN</td>\n",
       "      <td>NaN</td>\n",
       "      <td>NaN</td>\n",
       "      <td>NaN</td>\n",
       "      <td>3</td>\n",
       "      <td>4</td>\n",
       "      <td>3</td>\n",
       "      <td>3</td>\n",
       "      <td>NaN</td>\n",
       "    </tr>\n",
       "    <tr>\n",
       "      <th>Shrujana</th>\n",
       "      <td>3</td>\n",
       "      <td>NaN</td>\n",
       "      <td>5</td>\n",
       "      <td>NaN</td>\n",
       "      <td>3</td>\n",
       "      <td>NaN</td>\n",
       "      <td>NaN</td>\n",
       "      <td>5</td>\n",
       "      <td>2</td>\n",
       "      <td>2</td>\n",
       "      <td>NaN</td>\n",
       "      <td>NaN</td>\n",
       "      <td>NaN</td>\n",
       "      <td>NaN</td>\n",
       "      <td>4</td>\n",
       "      <td>3</td>\n",
       "    </tr>\n",
       "    <tr>\n",
       "      <th>Rahul</th>\n",
       "      <td>NaN</td>\n",
       "      <td>NaN</td>\n",
       "      <td>4</td>\n",
       "      <td>3</td>\n",
       "      <td>4</td>\n",
       "      <td>3</td>\n",
       "      <td>4</td>\n",
       "      <td>5</td>\n",
       "      <td>3</td>\n",
       "      <td>4</td>\n",
       "      <td>3</td>\n",
       "      <td>4</td>\n",
       "      <td>1</td>\n",
       "      <td>5</td>\n",
       "      <td>NaN</td>\n",
       "      <td>3</td>\n",
       "    </tr>\n",
       "  </tbody>\n",
       "</table>\n",
       "</div>"
      ],
      "text/plain": [
       "          Puran Indian Restaurant  Signature India - Bloomington  \\\n",
       "Name                                                               \n",
       "Veera                           3                            NaN   \n",
       "Shekar                          4                            NaN   \n",
       "Ramesh                        NaN                              4   \n",
       "Shrujana                        3                            NaN   \n",
       "Rahul                         NaN                            NaN   \n",
       "\n",
       "          Happy Hour bloomington  India Palace Restaurant  \\\n",
       "Name                                                        \n",
       "Veera                          5                      NaN   \n",
       "Shekar                       NaN                        4   \n",
       "Ramesh                         5                      NaN   \n",
       "Shrujana                       5                      NaN   \n",
       "Rahul                          4                        3   \n",
       "\n",
       "          Anand India Restaurant  Tamarind - Indian Cuisine  Masala  \\\n",
       "Name                                                                  \n",
       "Veera                          3                          4     NaN   \n",
       "Shekar                         4                          5       5   \n",
       "Ramesh                         4                          2     NaN   \n",
       "Shrujana                       3                        NaN     NaN   \n",
       "Rahul                          4                          3       4   \n",
       "\n",
       "          Haldi Indian Restaurant  Himalayan Restaurant  Rivaj Of India  \\\n",
       "Name                                                                      \n",
       "Veera                           5                   NaN             NaN   \n",
       "Shekar                        NaN                     3               4   \n",
       "Ramesh                        NaN                   NaN             NaN   \n",
       "Shrujana                        5                     2               2   \n",
       "Rahul                           5                     3               4   \n",
       "\n",
       "          Ruchi  New Delhi Restaurant of India  Bombay Chopsticks  \\\n",
       "Name                                                                \n",
       "Veera         3                              4                  3   \n",
       "Shekar        4                              5                  4   \n",
       "Ramesh      NaN                              3                  4   \n",
       "Shrujana    NaN                            NaN                NaN   \n",
       "Rahul         3                              4                  1   \n",
       "\n",
       "          Mantra by Indian Garden  Taj Indian Cuisine  Khana Khazanah  \n",
       "Name                                                                   \n",
       "Veera                           4                 NaN               4  \n",
       "Shekar                          4                 NaN               5  \n",
       "Ramesh                          3                   3             NaN  \n",
       "Shrujana                      NaN                   4               3  \n",
       "Rahul                           5                 NaN               3  "
      ]
     },
     "execution_count": 4,
     "metadata": {},
     "output_type": "execute_result"
    }
   ],
   "source": [
    "M.head()"
   ]
  },
  {
   "cell_type": "code",
   "execution_count": 5,
   "metadata": {
    "collapsed": true
   },
   "outputs": [],
   "source": [
    "def pearson(s1, s2):\n",
    "    \"\"\"Take two pd.Series objects and return a pearson correlation.\"\"\"\n",
    "    s1_c = s1 - s1.mean()\n",
    "    s2_c = s2 - s2.mean()\n",
    "    return np.sum(s1_c * s2_c) / np.sqrt(np.sum(s1_c ** 2) * np.sum(s2_c ** 2))"
   ]
  },
  {
   "cell_type": "code",
   "execution_count": 6,
   "metadata": {
    "collapsed": true
   },
   "outputs": [],
   "source": [
    "def get_recs(restaurant_name, M, num):\n",
    "\n",
    "    import numpy as np\n",
    "    reviews = []\n",
    "    for title in M.columns:\n",
    "        if title == restaurant_name:\n",
    "            continue\n",
    "        cor = pearson(M[restaurant_name], M[title])\n",
    "        if np.isnan(cor):\n",
    "            continue\n",
    "        else:\n",
    "            reviews.append((title, cor))\n",
    "    \n",
    "    reviews.sort(key=lambda tup: tup[1], reverse=True)\n",
    "    return reviews[:num]"
   ]
  },
  {
   "cell_type": "markdown",
   "metadata": {},
   "source": [
    "# Restaurant that has food that is similar to Haldi:"
   ]
  },
  {
   "cell_type": "code",
   "execution_count": 7,
   "metadata": {
    "collapsed": true
   },
   "outputs": [],
   "source": [
    "recs = get_recs('Haldi Indian Restaurant', M, 10)"
   ]
  },
  {
   "cell_type": "code",
   "execution_count": 8,
   "metadata": {
    "collapsed": false
   },
   "outputs": [
    {
     "data": {
      "text/plain": [
       "[('Happy Hour bloomington', 0.29864801372011995)]"
      ]
     },
     "execution_count": 8,
     "metadata": {},
     "output_type": "execute_result"
    }
   ],
   "source": [
    "recs[:1]"
   ]
  },
  {
   "cell_type": "markdown",
   "metadata": {},
   "source": [
    "# Restaurant that I would like to visit based on the reviews:"
   ]
  },
  {
   "cell_type": "code",
   "execution_count": 9,
   "metadata": {
    "collapsed": true
   },
   "outputs": [],
   "source": [
    "#the restaurant that i have visited\n",
    "my_ratings = M.ix['Shrujana'].dropna()"
   ]
  },
  {
   "cell_type": "code",
   "execution_count": 10,
   "metadata": {
    "collapsed": false
   },
   "outputs": [
    {
     "name": "stderr",
     "output_type": "stream",
     "text": [
      "C:\\Users\\shru.shru-PC\\Anaconda2\\lib\\site-packages\\ipykernel\\__main__.py:2: FutureWarning: sort is deprecated, use sort_values(inplace=True) for for INPLACE sorting\n",
      "  from ipykernel import kernelapp as app\n"
     ]
    }
   ],
   "source": [
    "#the restaurants which i have rated the highest\n",
    "my_ratings.sort(ascending=False)"
   ]
  },
  {
   "cell_type": "code",
   "execution_count": 11,
   "metadata": {
    "collapsed": true
   },
   "outputs": [],
   "source": [
    "fav_restaurant = my_ratings.index[0]"
   ]
  },
  {
   "cell_type": "code",
   "execution_count": 12,
   "metadata": {
    "collapsed": false
   },
   "outputs": [
    {
     "data": {
      "text/plain": [
       "'Haldi Indian Restaurant'"
      ]
     },
     "execution_count": 12,
     "metadata": {},
     "output_type": "execute_result"
    }
   ],
   "source": [
    "fav_restaurant"
   ]
  },
  {
   "cell_type": "code",
   "execution_count": 13,
   "metadata": {
    "collapsed": true
   },
   "outputs": [],
   "source": [
    "recs = get_recs(fav_restaurant, M, 10)"
   ]
  },
  {
   "cell_type": "code",
   "execution_count": 14,
   "metadata": {
    "collapsed": false
   },
   "outputs": [
    {
     "data": {
      "text/plain": [
       "[('Happy Hour bloomington', 0.29864801372011995),\n",
       " ('Tamarind - Indian Cuisine', 0.1772361087277764),\n",
       " ('Masala', 0.096892365979085196),\n",
       " ('Puran Indian Restaurant', 0.092357589991483302),\n",
       " ('Signature India - Bloomington', 0.088974367826027731),\n",
       " ('Bombay Chopsticks', 0.08802037679329433),\n",
       " ('Mantra by Indian Garden', 0.03054608876526441),\n",
       " ('New Delhi Restaurant of India', -0.0044764788022980187),\n",
       " ('Anand India Restaurant', -0.0048989618997286573),\n",
       " ('India Palace Restaurant', -0.024434070710641433)]"
      ]
     },
     "execution_count": 14,
     "metadata": {},
     "output_type": "execute_result"
    }
   ],
   "source": [
    "recs[:10]"
   ]
  },
  {
   "cell_type": "code",
   "execution_count": 15,
   "metadata": {
    "collapsed": true
   },
   "outputs": [],
   "source": [
    "anti_recs = get_recs(fav_restaurant, M, 8551)"
   ]
  },
  {
   "cell_type": "code",
   "execution_count": 16,
   "metadata": {
    "collapsed": false
   },
   "outputs": [
    {
     "data": {
      "text/plain": [
       "[('Bombay Chopsticks', 0.08802037679329433),\n",
       " ('Mantra by Indian Garden', 0.03054608876526441),\n",
       " ('New Delhi Restaurant of India', -0.0044764788022980187),\n",
       " ('Anand India Restaurant', -0.0048989618997286573),\n",
       " ('India Palace Restaurant', -0.024434070710641433),\n",
       " ('Taj Indian Cuisine', -0.030023214339067131),\n",
       " ('Khana Khazanah', -0.041729386844087377),\n",
       " ('Rivaj Of India', -0.063365116820478601),\n",
       " ('Himalayan Restaurant', -0.076384834426830112),\n",
       " ('Ruchi', -0.18454250482397611)]"
      ]
     },
     "execution_count": 16,
     "metadata": {},
     "output_type": "execute_result"
    }
   ],
   "source": [
    "anti_recs[-10:]"
   ]
  },
  {
   "cell_type": "code",
   "execution_count": 17,
   "metadata": {
    "collapsed": false
   },
   "outputs": [
    {
     "name": "stderr",
     "output_type": "stream",
     "text": [
      "C:\\Users\\shru.shru-PC\\Anaconda2\\lib\\site-packages\\ipykernel\\__main__.py:2: FutureWarning: sort is deprecated, use sort_values(inplace=True) for for INPLACE sorting\n",
      "  from ipykernel import kernelapp as app\n"
     ]
    }
   ],
   "source": [
    "not_rated = M.ix['Shrujana']\n",
    "not_rated.sort()\n",
    "for i in range(0, not_rated.count(), 1):\n",
    "    not_rated.drop(not_rated.index[0], inplace=True)"
   ]
  },
  {
   "cell_type": "code",
   "execution_count": 18,
   "metadata": {
    "collapsed": false
   },
   "outputs": [
    {
     "data": {
      "text/plain": [
       "Signature India - Bloomington   NaN\n",
       "India Palace Restaurant         NaN\n",
       "Tamarind - Indian Cuisine       NaN\n",
       "Masala                          NaN\n",
       "Ruchi                           NaN\n",
       "New Delhi Restaurant of India   NaN\n",
       "Bombay Chopsticks               NaN\n",
       "Mantra by Indian Garden         NaN\n",
       "Name: Shrujana, dtype: float64"
      ]
     },
     "execution_count": 18,
     "metadata": {},
     "output_type": "execute_result"
    }
   ],
   "source": [
    "not_rated"
   ]
  },
  {
   "cell_type": "code",
   "execution_count": 20,
   "metadata": {
    "collapsed": false
   },
   "outputs": [
    {
     "name": "stdout",
     "output_type": "stream",
     "text": [
      "Pearson Correlation coefficient of :\n",
      "(Shrujana , Veera) : 0.595046231887\n",
      "(Shrujana , Shekar) : 0.303897798492\n",
      "(Shrujana , Ramesh) : 0.251708298454\n",
      "(Shrujana , Shrujana) : 1.0\n",
      "(Shrujana , Rahul) : 0.285170934927\n",
      "(Shrujana , Aruna) : 0.210953981424\n",
      "(Shrujana , saritha) : 0.0429650039123\n",
      "(Shrujana , Naresh) : 0.288389515514\n",
      "(Shrujana , Vinnu) : 0.252138233851\n",
      "(Shrujana , Dheeraj) : 0.364787088934\n",
      "(Shrujana , Tanmayee) : 0.492510016788\n",
      "(Shrujana , Ned) : 0.00571358671\n",
      "(Shrujana , Sam) : 0.44466000011\n",
      "(Shrujana , Ashwin) : 0.770176512097\n",
      "(Shrujana , Bavroop) : -0.141635233436\n",
      "(Shrujana , Richa) : 0.155136354457\n",
      "(Shrujana , Priya) : 0.200868368007\n",
      "(Shrujana , Bhasker) : 0.268500583409\n",
      "(Shrujana , Dominic) : -0.251997026005\n",
      "(Shrujana ,  Simona) : 0.276445511855\n",
      "(Shrujana , Madhu) : 0.284627226786\n",
      "(Shrujana , Haneesha) : 0.201453232723\n",
      "(Shrujana , Kavya) : -0.137442909824\n"
     ]
    }
   ],
   "source": [
    "print \"Pearson Correlation coefficient of :\"\n",
    "a= []\n",
    "for i in range(0, 23, 1): # as there are 23 rows(M.shape), range(0,23) \n",
    "    cor=pearson(M.ix[3], M.ix[i])\n",
    "    print \"(\" + M.index[3] + \" , \" + M.index[i] + \") :\", cor\n",
    "    a.append(cor)"
   ]
  },
  {
   "cell_type": "code",
   "execution_count": 21,
   "metadata": {
    "collapsed": true
   },
   "outputs": [],
   "source": [
    "def pred_rate(x, a):\n",
    "    \"\"\"\n",
    "    Takes two parameters 'x' and 'a'. \n",
    "    Where 'x' a list of rates given by people. \n",
    "    'a' is a array that has corresponding pearson correlation coefficientreturn (weights for the given rates).\n",
    "    predicted rate is calculated as rate= (x[0]*a[0] + x[1]*a[1] +...+x[i]*a[i]) / (a[0]+a[1]+..+a[i]) \n",
    "    returns predicted rate \n",
    "    \"\"\"\n",
    "    j=0\n",
    "    k=0\n",
    "    for i in range(0, 23, 1): # becausethere are 23 rows(x.shape), range(0,23) \n",
    "        if x.irow(i)>0 and a[i]>0: \n",
    "            j= j+(a[i]*x.irow(i))\n",
    "            k= k+a[i]\n",
    "        else:\n",
    "            continue\n",
    "    return j/k"
   ]
  },
  {
   "cell_type": "code",
   "execution_count": 22,
   "metadata": {
    "collapsed": false
   },
   "outputs": [
    {
     "name": "stdout",
     "output_type": "stream",
     "text": [
      "The ratings for the restaurant that I did not visit]:\n",
      "Signature India - Bloomington:  3.4\n",
      "India Palace Restaurant:  3.8\n",
      "Tamarind - Indian Cuisine:  3.7\n",
      "Masala:  4.3\n",
      "Ruchi:  3.2\n"
     ]
    },
    {
     "name": "stderr",
     "output_type": "stream",
     "text": [
      "C:\\Users\\shru.shru-PC\\Anaconda2\\lib\\site-packages\\ipykernel\\__main__.py:12: FutureWarning: irow(i) is deprecated. Please use .iloc[i] or .iat[i]\n",
      "C:\\Users\\shru.shru-PC\\Anaconda2\\lib\\site-packages\\ipykernel\\__main__.py:13: FutureWarning: irow(i) is deprecated. Please use .iloc[i] or .iat[i]\n"
     ]
    }
   ],
   "source": [
    "print \"The ratings for the restaurant that I did not visit]:\"\n",
    "for i in range(0, 5, 1): # because there are 12 rows(not_rated.shape), range(0,12) \n",
    "    x=M[not_rated.index[i]]\n",
    "    rate=pred_rate(x, a)\n",
    "    print not_rated.index[i] +\": \", rate.round(1)"
   ]
  }
 ],
 "metadata": {
  "kernelspec": {
   "display_name": "Python 2",
   "language": "python",
   "name": "python2"
  },
  "language_info": {
   "codemirror_mode": {
    "name": "ipython",
    "version": 2
   },
   "file_extension": ".py",
   "mimetype": "text/x-python",
   "name": "python",
   "nbconvert_exporter": "python",
   "pygments_lexer": "ipython2",
   "version": "2.7.11"
  }
 },
 "nbformat": 4,
 "nbformat_minor": 0
}
